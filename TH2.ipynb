{
 "cells": [
  {
   "cell_type": "code",
   "execution_count": 3,
   "id": "c642d9ec",
   "metadata": {},
   "outputs": [],
   "source": [
    "from qiskit import* \n",
    "from qiskit.tools.visualization import plot_histogram\n",
    "from qiskit.tools.monitor import job_monitor\n",
    "\n",
    "%matplotlib inline\n",
    "\n",
    "IBMQ.load_account()\n",
    "\n",
    "provider=IBMQ.get_provider('ibm-q')\n",
    "\n",
    "simulator=Aer.get_backend('qasm_simulator')"
   ]
  },
  {
   "cell_type": "code",
   "execution_count": 29,
   "id": "30626f95",
   "metadata": {},
   "outputs": [],
   "source": [
    "from typing import *\n",
    "import math\n",
    "\n",
    "class circuitBuilder(object):\n",
    "    def __init__(self,minCiruitsize:Tuple[int,int],builder:Callable[[QuantumCircuit,Any],QuantumCircuit],stateValidator:Callable[[Any],bool] = lambda s: True,state = None):\n",
    "        self._builder = builder\n",
    "        self._validator = stateValidator\n",
    "        self.minCiruitsize = minCiruitsize\n",
    "\n",
    "        if self.isValidState(state):\n",
    "            self._state = state\n",
    "        else:\n",
    "            raise TypeError(f\"Invalide state {state}\")\n",
    "        \n",
    "    def __call__(self,circuit:QuantumCircuit) -> QuantumCircuit:\n",
    "        return self._builder(circuit,self._state)\n",
    "    \n",
    "    def setState(self,state:Any):\n",
    "        if self.isValidState(state):\n",
    "            self._state = state\n",
    "        else :\n",
    "            raise TypeError(f\"Invalide state {state}\")\n",
    "        \n",
    "    def isValidState(self,state:Any) -> bool:\n",
    "        return self._validator(state)\n",
    "\n",
    "class Qubit(object):\n",
    "    def __init__(self,c1:complex,c2:complex):\n",
    "        if not math.isclose(abs(c1)**2+abs(c2)**2, 1):\n",
    "            raise ValueError(f\"Invalid Qubit state {c1}|0> + {c2}|1> sum of amplitudes-squared does not equal one. \")\n",
    "        self.c1 = c1\n",
    "        self.c2 = c2\n",
    "\n",
    "    def QubitValidator(s:Any) -> bool:\n",
    "        return isinstance(s,Qubit)\n",
    "\n",
    "    def toVector(self)->list:\n",
    "        return [self.c1,self.c2]\n",
    "    \n",
    "    def __str__(self) -> str:\n",
    "        return f\"[{self.c1};{self.c2}]\"\n",
    "\n",
    "def teleportBuilder(circuit:QuantumCircuit,state:Qubit)->QuantumCircuit:\n",
    "\n",
    "    circuit.initialize(state.toVector(),0)\n",
    "\n",
    "    circuit.h(1)\n",
    "    circuit.cnot(1,2)\n",
    "    \n",
    "    circuit.barrier()\n",
    "\n",
    "    circuit.cnot(0,1)\n",
    "    circuit.h(0)\n",
    "\n",
    "    circuit.barrier()\n",
    "\n",
    "    circuit.cnot(1,2)\n",
    "    circuit.cz(0,2)\n",
    "\n",
    "    circuit.barrier()\n",
    "\n",
    "    circuit.measure(2,0)\n",
    "\n",
    "    return circuit"
   ]
  },
  {
   "cell_type": "code",
   "execution_count": 30,
   "id": "3c1e4794",
   "metadata": {},
   "outputs": [],
   "source": [
    "import time\n",
    "from qiskit.providers.ibmq import *\n",
    "import matplotlib.pyplot as plt\n",
    "\n",
    "def autoSelectQComputer(filter:\"list[str]\",builder:circuitBuilder,states:list,maxQueuedJob:int = 10) -> IBMQBackend:\n",
    "    provider=IBMQ.get_provider('ibm-q')\n",
    "    simulator=Aer.get_backend('qasm_simulator')\n",
    "\n",
    "    filter = filter.copy()\n",
    "\n",
    "    for f in filter:\n",
    "        qcomputer = provider.get_backend(f)\n",
    "        if qcomputer.status().pending_jobs > maxQueuedJob:\n",
    "            filter.remove(f)\n",
    "            continue\n",
    "        joblim = qcomputer.job_limit()\n",
    "        if joblim.maximum_jobs - joblim.active_jobs > len(states):\n",
    "            print(f\"[Warning] number of states is superior to the number of available jobs for the backend {f} autoselection may take longer than expected\")\n",
    "\n",
    "    jobs = {s:{n:{\"job\":None,\"expeResult\":None,\"status\":None} for n in filter} for s in states}\n",
    "\n",
    "    for s in states:\n",
    "        builder.setState(s)\n",
    "        circuit = QuantumCircuit(*builder.minCiruitsize)\n",
    "        circuit = builder(circuit)\n",
    "        counts = execute(circuit,backend = simulator,shots=512).result().get_counts()\n",
    "        jobs[s][\"simResult\"] = {k:counts[k] for k in counts}\n",
    "\n",
    "        for f in filter:\n",
    "            qcomputer = provider.get_backend(f)\n",
    "            while (True):\n",
    "                joblim = qcomputer.job_limit()\n",
    "                if joblim.maximum_jobs - joblim.active_jobs >=1:\n",
    "                    break\n",
    "                time.sleep(2)\n",
    "            jobs[s][f][\"job\"] = execute(circuit,backend = qcomputer,shots=512)\n",
    "            print(f\"{str(s)} started for {f}\")\n",
    "        \n",
    "    jobsLeft = len(states)*len(filter)\n",
    "\n",
    "    while jobsLeft >0:\n",
    "        time.sleep(10)\n",
    "        for s in states:\n",
    "            for f in filter:\n",
    "                if jobs[s][f][\"status\"] != None :\n",
    "                    continue\n",
    "                status = jobs[s][f][\"job\"].status()\n",
    "                if (status.name in ['DONE', 'CANCELLED', 'ERROR']):\n",
    "                    jobsLeft -= 1\n",
    "\n",
    "                    if status.name == 'ERROR':\n",
    "                        print(f\"An error occured while processing state {s} on {f}\")\n",
    "                    \n",
    "                    if status.name == 'DONE':\n",
    "                        counts = jobs[s][f][\"job\"].result().get_counts()\n",
    "                        plt.figure()\n",
    "                        \n",
    "                        jobs[s][f][\"expeResult\"] = {k:counts[k] for k in counts}\n",
    "                        \n",
    "                        plt.bar(jobs[s][f][\"expeResult\"].keys(),jobs[s][f][\"expeResult\"].values())\n",
    "                        plt.title(f\"{str(s)} on {f}\")\n",
    "\n",
    "                    jobs[s][f][\"status\"] = status.name\n",
    "                    print(f\"{str(s)} ended for {f}\")\n",
    "\n",
    "    errors = {f:{\"count\":0,\"tot\":0} for f in filter}\n",
    "\n",
    "    for s in states:\n",
    "        for f in filter:\n",
    "            if jobs[s][f][\"status\"] == 'DONE':\n",
    "                errors[f][\"tot\"] += 512\n",
    "                for k in jobs[s][\"simResult\"].keys():\n",
    "                    errors[f][\"count\"] += abs(jobs[s][f][\"expeResult\"][k] - jobs[s][\"simResult\"][k])\n",
    "    \n",
    "    back = None\n",
    "    error = 2.0\n",
    "\n",
    "    for (k,v) in errors.items() :\n",
    "        e = float(v[\"count\"])/v[\"tot\"]\n",
    "        if e<error:\n",
    "            error = e\n",
    "            back = k\n",
    "    \n",
    "    print(error)\n",
    "    print(back)\n",
    "    plt.plot()\n",
    "    return provider.get_backend(back)"
   ]
  },
  {
   "cell_type": "code",
   "execution_count": 32,
   "id": "fc60ba77",
   "metadata": {},
   "outputs": [
    {
     "name": "stdout",
     "output_type": "stream",
     "text": [
      "[Warning] number of states is superior to the number of available jobs for the backend ibmq_athens autoselection may take longer than expected\n",
      "[Warning] number of states is superior to the number of available jobs for the backend ibmq_belem autoselection may take longer than expected\n",
      "[Warning] number of states is superior to the number of available jobs for the backend ibmq_quito autoselection may take longer than expected\n",
      "[1;0] started for ibmq_santiago\n",
      "[1;0] started for ibmq_athens\n",
      "[1;0] started for ibmq_belem\n",
      "[1;0] started for ibmq_quito\n",
      "[1;0] started for ibmqx2\n",
      "[0;1] started for ibmq_santiago\n",
      "[0;1] started for ibmq_athens\n",
      "[0;1] started for ibmq_belem\n",
      "[0;1] started for ibmq_quito\n",
      "[0;1] started for ibmqx2\n",
      "[1;0] ended for ibmq_belem\n",
      "[1;0] ended for ibmqx2\n",
      "[0;1] ended for ibmq_belem\n",
      "[0;1] ended for ibmqx2\n",
      "[1;0] ended for ibmq_santiago\n",
      "[0;1] ended for ibmq_santiago\n",
      "[1;0] ended for ibmq_athens\n",
      "[0;1] ended for ibmq_athens\n",
      "[1;0] ended for ibmq_quito\n",
      "[0;1] ended for ibmq_quito\n",
      "0.0322265625\n",
      "ibmq_santiago\n"
     ]
    },
    {
     "data": {
      "image/png": "[encoded data removed]",
      "text/plain": [
       "<Figure size 432x288 with 1 Axes>"
      ]
     },
     "metadata": {
      "needs_background": "light"
     },
     "output_type": "display_data"
    },
    {
     "data": {
      "image/png": "[encoded data removed]",
      "text/plain": [
       "<Figure size 432x288 with 1 Axes>"
      ]
     },
     "metadata": {
      "needs_background": "light"
     },
     "output_type": "display_data"
    },
    {
     "data": {
      "image/png": "[encoded data removed]",
      "text/plain": [
       "<Figure size 432x288 with 1 Axes>"
      ]
     },
     "metadata": {
      "needs_background": "light"
     },
     "output_type": "display_data"
    },
    {
     "data": {
      "image/png": "[encoded data removed]",
      "text/plain": [
       "<Figure size 432x288 with 1 Axes>"
      ]
     },
     "metadata": {
      "needs_background": "light"
     },
     "output_type": "display_data"
    },
    {
     "data": {
      "image/png": "[encoded data removed]",
      "text/plain": [
       "<Figure size 432x288 with 1 Axes>"
      ]
     },
     "metadata": {
      "needs_background": "light"
     },
     "output_type": "display_data"
    },
    {
     "data": {
      "image/png": "[encoded data removed]",
      "text/plain": [
       "<Figure size 432x288 with 1 Axes>"
      ]
     },
     "metadata": {
      "needs_background": "light"
     },
     "output_type": "display_data"
    },
    {
     "data": {
      "image/png": "[encoded data removed]",
      "text/plain": [
       "<Figure size 432x288 with 1 Axes>"
      ]
     },
     "metadata": {
      "needs_background": "light"
     },
     "output_type": "display_data"
    },
    {
     "data": {
      "image/png": "[encoded data removed]",
      "text/plain": [
       "<Figure size 432x288 with 1 Axes>"
      ]
     },
     "metadata": {
      "needs_background": "light"
     },
     "output_type": "display_data"
    },
    {
     "data": {
      "image/png": "[encoded data removed]",
      "text/plain": [
       "<Figure size 432x288 with 1 Axes>"
      ]
     },
     "metadata": {
      "needs_background": "light"
     },
     "output_type": "display_data"
    },
    {
     "data": {
      "image/png": "[encoded data removed]",
      "text/plain": [
       "<Figure size 432x288 with 1 Axes>"
      ]
     },
     "metadata": {
      "needs_background": "light"
     },
     "output_type": "display_data"
    }
   ],
   "source": [
    "proco = [\"ibmq_manila\",\"ibmq_santiago\",\"ibmq_athens\",\"ibmq_belem\",\"ibmq_quito\",\"ibmq_lima\",\"ibmqx2\"]\n",
    "\n",
    "qcomputer = autoSelectQComputer(proco, circuitBuilder((3,1),teleportBuilder,Qubit.QubitValidator,Qubit(0,1)), [Qubit(1,0),Qubit(0,1)] )\n"
   ]
  },
  {
   "cell_type": "code",
   "execution_count": null,
   "id": "f2184516",
   "metadata": {},
   "outputs": [],
   "source": []
  },
  {
   "cell_type": "code",
   "execution_count": 39,
   "id": "29c57c6a",
   "metadata": {},
   "outputs": [
    {
     "data": {
      "image/png": "[encoded data removed]",
      "text/plain": [
       "<Figure size 504x360 with 1 Axes>"
      ]
     },
     "execution_count": 39,
     "metadata": {},
     "output_type": "execute_result"
    }
   ],
   "source": [
    "result=execute(tcircuit,backend = simulator,shots=1024).result()\n",
    "counts=result.get_counts()\n",
    "\n",
    "plot_histogram(counts)"
   ]
  },
  {
   "cell_type": "code",
   "execution_count": 17,
   "id": "d853bf5f",
   "metadata": {},
   "outputs": [],
   "source": [
    "class Binary(object):\n",
    "    def __init__(self,binary):\n",
    "        self.binary = str(binary)\n",
    "        if not Binary.isBinary(self.binary):\n",
    "            raise TypeError(self.binary + \"is not a binary number\")\n",
    "        \n",
    "    def isBinary(binary:str):\n",
    "        for i in range(len(binary)):\n",
    "            if binary[i] != \"1\" and binary[i] != \"0\":\n",
    "                return False\n",
    "        return True\n",
    "    \n",
    "    def __getitem__(self, name: int) -> int:\n",
    "        return int(self.binary[len(self.binary) - name-1])\n",
    "    \n",
    "    def __len__(self) -> int:\n",
    "        return len(self.binary)\n",
    "    \n",
    "    def __str__(self) -> str:\n",
    "        return self.binary"
   ]
  },
  {
   "cell_type": "code",
   "execution_count": 32,
   "id": "b5f7135c",
   "metadata": {},
   "outputs": [
    {
     "name": "stdout",
     "output_type": "stream",
     "text": [
      "0.0\n"
     ]
    }
   ],
   "source": [
    "def toBCounts(counts):\n",
    "    return {Binary(k):counts[k] for k in counts}\n",
    "\n",
    "def getError(ccounts,expected):\n",
    "    E=0.0\n",
    "    T=0\n",
    "    for k,v in ccounts.items():\n",
    "        T += v\n",
    "        if k[2] !=  expected :\n",
    "            E += v\n",
    "    return E/T\n",
    "\n",
    "print(getError(BCounts,0))\n",
    "       "
   ]
  },
  {
   "cell_type": "code",
   "execution_count": 42,
   "id": "028611d0",
   "metadata": {},
   "outputs": [],
   "source": [
    "\n",
    "\n",
    "jobs = []\n",
    "\n",
    "vals = []\n",
    "\n",
    "for p in proco:\n",
    "    jobs.append((p,execute(tcircuit,backend = provider.get_backend(p),shots=512)))"
   ]
  },
  {
   "cell_type": "code",
   "execution_count": 44,
   "id": "f1e51807",
   "metadata": {},
   "outputs": [
    {
     "name": "stdout",
     "output_type": "stream",
     "text": [
      "ibmq_manila\n",
      "Job Status: job has successfully run\n",
      "ibmq_santiago\n",
      "Job Status: job has successfully run\n",
      "ibmq_athens\n",
      "Job Status: job has successfully run\n",
      "ibmq_belem\n",
      "Job Status: job has successfully run\n",
      "ibmq_quito\n",
      "Job Status: job has successfully run\n",
      "ibmq_lima\n",
      "Job Status: job is queued (33)"
     ]
    },
    {
     "ename": "KeyboardInterrupt",
     "evalue": "",
     "output_type": "error",
     "traceback": [
      "\u001b[0;31m---------------------------------------------------------------------------\u001b[0m",
      "\u001b[0;31mKeyboardInterrupt\u001b[0m                         Traceback (most recent call last)",
      "\u001b[0;32m<ipython-input-44-862d249ed141>\u001b[0m in \u001b[0;36m<module>\u001b[0;34m\u001b[0m\n\u001b[1;32m      1\u001b[0m \u001b[0;32mfor\u001b[0m \u001b[0mj\u001b[0m \u001b[0;32min\u001b[0m \u001b[0mjobs\u001b[0m \u001b[0;34m:\u001b[0m\u001b[0;34m\u001b[0m\u001b[0;34m\u001b[0m\u001b[0m\n\u001b[1;32m      2\u001b[0m     \u001b[0mprint\u001b[0m\u001b[0;34m(\u001b[0m\u001b[0mj\u001b[0m\u001b[0;34m[\u001b[0m\u001b[0;36m0\u001b[0m\u001b[0;34m]\u001b[0m\u001b[0;34m)\u001b[0m\u001b[0;34m\u001b[0m\u001b[0;34m\u001b[0m\u001b[0m\n\u001b[0;32m----> 3\u001b[0;31m     \u001b[0mjob_monitor\u001b[0m\u001b[0;34m(\u001b[0m\u001b[0mj\u001b[0m\u001b[0;34m[\u001b[0m\u001b[0;36m1\u001b[0m\u001b[0;34m]\u001b[0m\u001b[0;34m)\u001b[0m\u001b[0;34m\u001b[0m\u001b[0;34m\u001b[0m\u001b[0m\n\u001b[0m\u001b[1;32m      4\u001b[0m     \u001b[0mvals\u001b[0m\u001b[0;34m.\u001b[0m\u001b[0mappend\u001b[0m\u001b[0;34m(\u001b[0m\u001b[0;34m(\u001b[0m\u001b[0mj\u001b[0m\u001b[0;34m[\u001b[0m\u001b[0;36m0\u001b[0m\u001b[0;34m]\u001b[0m\u001b[0;34m,\u001b[0m\u001b[0mgetError\u001b[0m\u001b[0;34m(\u001b[0m\u001b[0mtoBCounts\u001b[0m\u001b[0;34m(\u001b[0m\u001b[0mj\u001b[0m\u001b[0;34m[\u001b[0m\u001b[0;36m1\u001b[0m\u001b[0;34m]\u001b[0m\u001b[0;34m.\u001b[0m\u001b[0mresult\u001b[0m\u001b[0;34m(\u001b[0m\u001b[0;34m)\u001b[0m\u001b[0;34m.\u001b[0m\u001b[0mget_counts\u001b[0m\u001b[0;34m(\u001b[0m\u001b[0;34m)\u001b[0m\u001b[0;34m)\u001b[0m\u001b[0;34m,\u001b[0m\u001b[0;36m0\u001b[0m\u001b[0;34m)\u001b[0m\u001b[0;34m)\u001b[0m\u001b[0;34m)\u001b[0m\u001b[0;34m\u001b[0m\u001b[0;34m\u001b[0m\u001b[0m\n\u001b[1;32m      5\u001b[0m \u001b[0;34m\u001b[0m\u001b[0m\n",
      "\u001b[0;32m~/anaconda3/lib/python3.8/site-packages/qiskit/tools/monitor/job_monitor.py\u001b[0m in \u001b[0;36mjob_monitor\u001b[0;34m(job, interval, quiet, output)\u001b[0m\n\u001b[1;32m     81\u001b[0m         \u001b[0m_interval_set\u001b[0m \u001b[0;34m=\u001b[0m \u001b[0;32mTrue\u001b[0m\u001b[0;34m\u001b[0m\u001b[0;34m\u001b[0m\u001b[0m\n\u001b[1;32m     82\u001b[0m \u001b[0;34m\u001b[0m\u001b[0m\n\u001b[0;32m---> 83\u001b[0;31m     _text_checker(job, interval, _interval_set,\n\u001b[0m\u001b[1;32m     84\u001b[0m                   quiet=quiet, output=output)\n",
      "\u001b[0;32m~/anaconda3/lib/python3.8/site-packages/qiskit/tools/monitor/job_monitor.py\u001b[0m in \u001b[0;36m_text_checker\u001b[0;34m(job, interval, _interval_set, quiet, output)\u001b[0m\n\u001b[1;32m     38\u001b[0m         \u001b[0mprint\u001b[0m\u001b[0;34m(\u001b[0m\u001b[0;34m'\\r%s: %s'\u001b[0m \u001b[0;34m%\u001b[0m \u001b[0;34m(\u001b[0m\u001b[0;34m'Job Status'\u001b[0m\u001b[0;34m,\u001b[0m \u001b[0mmsg\u001b[0m\u001b[0;34m)\u001b[0m\u001b[0;34m,\u001b[0m \u001b[0mend\u001b[0m\u001b[0;34m=\u001b[0m\u001b[0;34m''\u001b[0m\u001b[0;34m,\u001b[0m \u001b[0mfile\u001b[0m\u001b[0;34m=\u001b[0m\u001b[0moutput\u001b[0m\u001b[0;34m)\u001b[0m\u001b[0;34m\u001b[0m\u001b[0;34m\u001b[0m\u001b[0m\n\u001b[1;32m     39\u001b[0m     \u001b[0;32mwhile\u001b[0m \u001b[0mstatus\u001b[0m\u001b[0;34m.\u001b[0m\u001b[0mname\u001b[0m \u001b[0;32mnot\u001b[0m \u001b[0;32min\u001b[0m \u001b[0;34m[\u001b[0m\u001b[0;34m'DONE'\u001b[0m\u001b[0;34m,\u001b[0m \u001b[0;34m'CANCELLED'\u001b[0m\u001b[0;34m,\u001b[0m \u001b[0;34m'ERROR'\u001b[0m\u001b[0;34m]\u001b[0m\u001b[0;34m:\u001b[0m\u001b[0;34m\u001b[0m\u001b[0;34m\u001b[0m\u001b[0m\n\u001b[0;32m---> 40\u001b[0;31m         \u001b[0mtime\u001b[0m\u001b[0;34m.\u001b[0m\u001b[0msleep\u001b[0m\u001b[0;34m(\u001b[0m\u001b[0minterval\u001b[0m\u001b[0;34m)\u001b[0m\u001b[0;34m\u001b[0m\u001b[0;34m\u001b[0m\u001b[0m\n\u001b[0m\u001b[1;32m     41\u001b[0m         \u001b[0mstatus\u001b[0m \u001b[0;34m=\u001b[0m \u001b[0mjob\u001b[0m\u001b[0;34m.\u001b[0m\u001b[0mstatus\u001b[0m\u001b[0;34m(\u001b[0m\u001b[0;34m)\u001b[0m\u001b[0;34m\u001b[0m\u001b[0;34m\u001b[0m\u001b[0m\n\u001b[1;32m     42\u001b[0m         \u001b[0mmsg\u001b[0m \u001b[0;34m=\u001b[0m \u001b[0mstatus\u001b[0m\u001b[0;34m.\u001b[0m\u001b[0mvalue\u001b[0m\u001b[0;34m\u001b[0m\u001b[0;34m\u001b[0m\u001b[0m\n",
      "\u001b[0;31mKeyboardInterrupt\u001b[0m: "
     ]
    }
   ],
   "source": [
    "for j in jobs :\n",
    "    print(j[0])\n",
    "    job_monitor(j[1])\n",
    "    vals.append((j[0],getError(toBCounts(j[1].result().get_counts()),1)))\n",
    "\n",
    "vals.sort(key=lambda c:c[1])"
   ]
  },
  {
   "cell_type": "code",
   "execution_count": 45,
   "id": "be917ad5",
   "metadata": {},
   "outputs": [
    {
     "name": "stdout",
     "output_type": "stream",
     "text": [
      "[('ibmq_belem', 0.861328125), ('ibmq_quito', 0.873046875), ('ibmq_manila', 0.90234375), ('ibmq_athens', 0.9296875), ('ibmq_santiago', 0.94140625)]\n"
     ]
    }
   ],
   "source": [
    "vals.sort(key=lambda c:c[1])\n",
    "print(vals)"
   ]
  },
  {
   "cell_type": "code",
   "execution_count": 48,
   "id": "fbe70037",
   "metadata": {},
   "outputs": [
    {
     "data": {
      "image/png": "[encoded data removed]",
      "text/plain": [
       "<Figure size 504x360 with 1 Axes>"
      ]
     },
     "execution_count": 48,
     "metadata": {},
     "output_type": "execute_result"
    }
   ],
   "source": [
    "p=None\n",
    "for j in jobs :\n",
    "    if (j[0] == 'ibmq_santiago'):\n",
    "        p=plot_histogram(j[1].result().get_counts())\n",
    "p"
   ]
  },
  {
   "cell_type": "code",
   "execution_count": null,
   "id": "72834f9a",
   "metadata": {},
   "outputs": [],
   "source": []
  }
 ],
 "metadata": {
  "kernelspec": {
   "display_name": "Python 3",
   "language": "python",
   "name": "python3"
  },
  "language_info": {
   "codemirror_mode": {
    "name": "ipython",
    "version": 3
   },
   "file_extension": ".py",
   "mimetype": "text/x-python",
   "name": "python",
   "nbconvert_exporter": "python",
   "pygments_lexer": "ipython3",
   "version": "3.8.5"
  }
 },
 "nbformat": 4,
 "nbformat_minor": 5
}
